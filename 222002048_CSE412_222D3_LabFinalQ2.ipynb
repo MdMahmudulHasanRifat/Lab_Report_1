{
  "nbformat": 4,
  "nbformat_minor": 0,
  "metadata": {
    "colab": {
      "provenance": [],
      "authorship_tag": "ABX9TyPaiMkguqyrOwkHWxlXDQJh",
      "include_colab_link": true
    },
    "kernelspec": {
      "name": "python3",
      "display_name": "Python 3"
    },
    "language_info": {
      "name": "python"
    }
  },
  "cells": [
    {
      "cell_type": "markdown",
      "metadata": {
        "id": "view-in-github",
        "colab_type": "text"
      },
      "source": [
        "<a href=\"https://colab.research.google.com/github/MdMahmudulHasanRifat/Lab_Report_1/blob/main/222002048_CSE412_222D3_LabFinalQ2.ipynb\" target=\"_parent\"><img src=\"https://colab.research.google.com/assets/colab-badge.svg\" alt=\"Open In Colab\"/></a>"
      ]
    },
    {
      "cell_type": "code",
      "execution_count": null,
      "metadata": {
        "id": "IayOcZkINeUz"
      },
      "outputs": [],
      "source": [
        "https://raw.githubusercontent.com/MdMahmudulHasanRifat/ML-Data-Proc/refs/heads/main/winequality-red.csv"
      ]
    }
  ]
}